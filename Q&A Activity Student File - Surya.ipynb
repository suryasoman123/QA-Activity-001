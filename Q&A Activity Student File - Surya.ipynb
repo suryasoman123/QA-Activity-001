{
 "cells": [
  {
   "cell_type": "markdown",
   "metadata": {},
   "source": [
    "## 1. Complete the following code to find the area of an equilateral triangle. Output should be as displayed"
   ]
  },
  {
   "cell_type": "code",
   "execution_count": 7,
   "metadata": {},
   "outputs": [
    {
     "name": "stdout",
     "output_type": "stream",
     "text": [
      "Enter the side of the equilateral triangle: 5\n",
      "Area = 10.825\n"
     ]
    }
   ],
   "source": [
    "import math\n",
    "side = float(input(\"Enter the side of the equilateral triangle: \"))\n",
    "area = ((math.sqrt(3))/4)*pow(side,2)\n",
    "area =round(area,3)\n",
    "print(\"Area =\",area)"
   ]
  },
  {
   "cell_type": "markdown",
   "metadata": {},
   "source": [
    "## 2. Write a program to count the number of each characters in a string"
   ]
  },
  {
   "cell_type": "code",
   "execution_count": 8,
   "metadata": {},
   "outputs": [
    {
     "name": "stdout",
     "output_type": "stream",
     "text": [
      "Enter the sentence: surya soman\n",
      "Occurrence of each characters in the sentence is : {'s': 2, 'u': 1, 'r': 1, 'y': 1, 'a': 2, ' ': 1, 'o': 1, 'm': 1, 'n': 1}\n"
     ]
    }
   ],
   "source": [
    "sentence = input(\"Enter the sentence: \")\n",
    "dictionary = {}\n",
    "for item in sentence: \n",
    "    if item in dictionary: \n",
    "        dictionary[item] += 1\n",
    "    else: \n",
    "        dictionary[item] = 1        \n",
    "print (\"Occurrence of each characters in the sentence is : \"+ str(dictionary))"
   ]
  },
  {
   "cell_type": "markdown",
   "metadata": {},
   "source": [
    "## 3. Write a program to find the area and perimeter of a rectangle using functions"
   ]
  },
  {
   "cell_type": "code",
   "execution_count": 9,
   "metadata": {},
   "outputs": [
    {
     "name": "stdout",
     "output_type": "stream",
     "text": [
      "Enter Breadth: 3\n",
      "Enter Length: 5\n",
      "Area of Rectangle is: 15.0\n",
      "Perimeter of Rectangle is: 16.0\n"
     ]
    }
   ],
   "source": [
    "def AreaRectangle(breadth, length) :\n",
    "    return (breadth * length)\n",
    "    Perimeter = 2 * (breadth + length)\n",
    "    \n",
    "def PerimeterRectangle(breadth, length) :\n",
    "    return (2 * (breadth + length))\n",
    "breadth = float(input(\"Enter Breadth: \"))\n",
    "length = float(input(\"Enter Length: \"))\n",
    "\n",
    "print (\"Area of Rectangle is:\", AreaRectangle(breadth, length))\n",
    "print (\"Perimeter of Rectangle is:\", PerimeterRectangle(breadth, length))"
   ]
  },
  {
   "cell_type": "markdown",
   "metadata": {},
   "source": [
    "## 4. Write a program to print the fibonacci series till a specified number"
   ]
  },
  {
   "cell_type": "code",
   "execution_count": 4,
   "metadata": {},
   "outputs": [
    {
     "name": "stdout",
     "output_type": "stream",
     "text": [
      "Enter the limit number: 5\n",
      "Fibonacci Series: \n",
      "0 1 1 2 3 5 "
     ]
    }
   ],
   "source": [
    "n = int(input(\"Enter the limit number: \"))\n",
    "a = 0\n",
    "b = 1\n",
    "sum = 0\n",
    "print(\"Fibonacci Series: \")\n",
    "while(sum <= n):\n",
    "  print(sum, end = \" \")\n",
    "  a = b\n",
    "  b = sum\n",
    "  sum = a + b"
   ]
  },
  {
   "cell_type": "markdown",
   "metadata": {},
   "source": [
    "## 5. Complete the following code to find the minimum of 3 number using conditional statements. Output should be as displayed"
   ]
  },
  {
   "cell_type": "code",
   "execution_count": 10,
   "metadata": {},
   "outputs": [
    {
     "name": "stdout",
     "output_type": "stream",
     "text": [
      "Enter three numbers followed by  : -19 -100 -9\n",
      "First number : -19\n",
      "Second number : -100\n",
      "Third number : -9\n",
      "-100  is smallest\n"
     ]
    }
   ],
   "source": [
    "a,b,c = input(\"Enter three numbers followed by  : \").split()\n",
    "\n",
    "print(\"First number :\",a)\n",
    "print(\"Second number :\",b)\n",
    "print(\"Third number :\",c)\n",
    "\n",
    "if a==b==c :\n",
    "    print(\"Entered numbers are equal!!!\")\n",
    "elif a < b and a < c:\n",
    "    print(a,\" is smallest\")\n",
    "elif b < a and b < c :\n",
    "    print(b,\" is smallest\")\n",
    "else :\n",
    "    print(c,\" is smallest\")"
   ]
  },
  {
   "cell_type": "markdown",
   "metadata": {},
   "source": [
    "## 6. Write a program to print star pyramind. The number of rows should be taken as input from the user"
   ]
  },
  {
   "cell_type": "code",
   "execution_count": 11,
   "metadata": {},
   "outputs": [
    {
     "name": "stdout",
     "output_type": "stream",
     "text": [
      "Enter number of rows5\n",
      "    * \n",
      "   * * \n",
      "  * * * \n",
      " * * * * \n",
      "* * * * * \n"
     ]
    }
   ],
   "source": [
    "num =int(input(\"Enter number of rows\"))\n",
    "for i in range (0,num) :\n",
    "    for j in range (0,num-i-1):\n",
    "        print(end=\" \")\n",
    "    for j in range(0,i+1):\n",
    "        print(\"*\",end=\" \")\n",
    "    print()"
   ]
  },
  {
   "cell_type": "markdown",
   "metadata": {},
   "source": [
    "## 7. Complete the following code to convert hour into seconds. Output should be as displayed"
   ]
  },
  {
   "cell_type": "code",
   "execution_count": 12,
   "metadata": {},
   "outputs": [
    {
     "name": "stdout",
     "output_type": "stream",
     "text": [
      "Enter time in Hours : 24\n",
      "24  Hour is equal to 86400  Seconds\n"
     ]
    }
   ],
   "source": [
    "def to_seconds(t):\n",
    "    a=60\n",
    "    b=60\n",
    "    t=time_in_hours*a*b  \n",
    "    return t\n",
    "time_in_hours = int(input(\"Enter time in Hours : \")) \n",
    "print(time_in_hours ,\" Hour is equal to\" ,to_seconds(time_in_hours) ,\" Seconds\")"
   ]
  },
  {
   "cell_type": "markdown",
   "metadata": {},
   "source": [
    "## 8. Write a program to print multiplication table as below"
   ]
  },
  {
   "cell_type": "code",
   "execution_count": 13,
   "metadata": {},
   "outputs": [
    {
     "name": "stdout",
     "output_type": "stream",
     "text": [
      "Enter a number to find the multiplication table: 67\n",
      "1 x 67 = 67\n",
      "2 x 67 = 134\n",
      "3 x 67 = 201\n",
      "4 x 67 = 268\n",
      "5 x 67 = 335\n",
      "6 x 67 = 402\n",
      "7 x 67 = 469\n",
      "8 x 67 = 536\n",
      "9 x 67 = 603\n",
      "10 x 67 = 670\n"
     ]
    }
   ],
   "source": [
    "number = int(input(\"Enter a number to find the multiplication table: \"))\n",
    "for i in range (1, 11) :\n",
    "    product = i*number\n",
    "    print (i, 'x' , number , \"=\" , product)"
   ]
  },
  {
   "cell_type": "markdown",
   "metadata": {},
   "source": [
    "## 9. Write a program to take your 5 favorite food as list and print each as 'I like Biriyani'"
   ]
  },
  {
   "cell_type": "code",
   "execution_count": 15,
   "metadata": {},
   "outputs": [
    {
     "name": "stdout",
     "output_type": "stream",
     "text": [
      "Please enter your 5 favorite foods: \n",
      "Biriyani\n",
      "GheeRoast\n",
      "Chocolate\n",
      "FriedRice\n",
      "Pasta\n",
      "I like Biriyani\n",
      "I like GheeRoast\n",
      "I like Chocolate\n",
      "I like FriedRice\n",
      "I like Pasta\n"
     ]
    }
   ],
   "source": [
    "list=[] \n",
    "n=5\n",
    "print(\"Please enter your 5 favorite foods: \")\n",
    "for i in range(n): \n",
    "     food = str(input()) \n",
    "     list.append(food) \n",
    "\n",
    "for i in range(n):\n",
    "    print(\"I like\" ,list[i])"
   ]
  },
  {
   "cell_type": "code",
   "execution_count": null,
   "metadata": {},
   "outputs": [],
   "source": []
  }
 ],
 "metadata": {
  "kernelspec": {
   "display_name": "Python 3 (ipykernel)",
   "language": "python",
   "name": "python3"
  },
  "language_info": {
   "codemirror_mode": {
    "name": "ipython",
    "version": 3
   },
   "file_extension": ".py",
   "mimetype": "text/x-python",
   "name": "python",
   "nbconvert_exporter": "python",
   "pygments_lexer": "ipython3",
   "version": "3.9.7"
  }
 },
 "nbformat": 4,
 "nbformat_minor": 4
}
